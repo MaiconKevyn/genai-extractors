{
 "cells": [
  {
   "cell_type": "code",
   "id": "initial_id",
   "metadata": {
    "collapsed": true,
    "ExecuteTime": {
     "end_time": "2025-06-12T21:52:41.999195Z",
     "start_time": "2025-06-12T21:52:41.911484Z"
    }
   },
   "source": [
    "import sys\n",
    "from pathlib import Path\n",
    "\n",
    "# Adiciona o diretório src ao sys.path\n",
    "sys.path.append(str(Path().resolve() / \"src\"))\n",
    "\n",
    "from extractors.file_type_manager import FileTypeManager\n",
    "\n",
    "manager = FileTypeManager()\n",
    "input_dir = Path(\"data/input\")\n",
    "\n",
    "for file_path in input_dir.iterdir():\n",
    "    if file_path.is_file():\n",
    "        print(f\"Processando: {file_path.name}\")\n",
    "        success = manager.process(str(file_path))\n",
    "        if success:\n",
    "            print(f\"✅ Sucesso: {file_path.name}\")\n",
    "        else:\n",
    "            print(f\"❌ Falha: {file_path.name}\")"
   ],
   "outputs": [
    {
     "name": "stderr",
     "output_type": "stream",
     "text": [
      "2025-06-12 18:52:41,975 - INFO - Iniciando extração: lec21_history_neural_networks_typednotes.pdf\n",
      "2025-06-12 18:52:41,991 - INFO - Extração concluída: lec21_history_neural_networks_typednotes.pdf (13 páginas)\n",
      "2025-06-12 18:52:41,991 - INFO - JSON salvo em: data\\output\\lec21_history_neural_networks_typednotes.json\n"
     ]
    },
    {
     "name": "stdout",
     "output_type": "stream",
     "text": [
      "Processando: lec21_history_neural_networks_typednotes.pdf\n",
      "✅ Sucesso: lec21_history_neural_networks_typednotes.pdf\n"
     ]
    }
   ],
   "execution_count": 1
  },
  {
   "metadata": {
    "ExecuteTime": {
     "end_time": "2025-06-12T21:52:42.361684Z",
     "start_time": "2025-06-12T21:52:42.176108Z"
    }
   },
   "cell_type": "code",
   "source": [
    "# Processa arquivos\n",
    "if not supported_files:\n",
    "    print(\"❌ Nenhum arquivo encontrado!\")\n",
    "    print(\"💡 Coloque seus PDFs na pasta data/input/\")\n",
    "else:\n",
    "    successful = 0\n",
    "    failed = 0\n",
    "\n",
    "    for file_path in supported_files:\n",
    "        print(f\"\\n📄 Processando: {file_path.name}\")\n",
    "\n",
    "        # Define arquivo de saída\n",
    "        output_file = OUTPUT_DIR / f\"{file_path.stem}.json\"\n",
    "\n",
    "        # Extrai e salva\n",
    "        success = manager.extract_and_save(file_path, output_file)\n",
    "\n",
    "        if success:\n",
    "            print(f\"   ✅ Salvo: {output_file.name}\")\n",
    "            successful += 1\n",
    "        else:\n",
    "            print(f\"   ❌ Erro ao processar\")\n",
    "            failed += 1\n",
    "\n",
    "    print(f\"\\n🎉 Concluído!\")\n",
    "    print(f\"✅ Sucessos: {successful}\")\n",
    "    print(f\"❌ Falhas: {failed}\")\n",
    "    print(f\"📁 Arquivos salvos em: {OUTPUT_DIR}\")"
   ],
   "id": "19c53fbbe0e75296",
   "outputs": [
    {
     "ename": "NameError",
     "evalue": "name 'supported_files' is not defined",
     "output_type": "error",
     "traceback": [
      "\u001B[31m---------------------------------------------------------------------------\u001B[39m",
      "\u001B[31mNameError\u001B[39m                                 Traceback (most recent call last)",
      "\u001B[36mCell\u001B[39m\u001B[36m \u001B[39m\u001B[32mIn[2]\u001B[39m\u001B[32m, line 2\u001B[39m\n\u001B[32m      1\u001B[39m \u001B[38;5;66;03m# Processa arquivos\u001B[39;00m\n\u001B[32m----> \u001B[39m\u001B[32m2\u001B[39m \u001B[38;5;28;01mif\u001B[39;00m \u001B[38;5;129;01mnot\u001B[39;00m \u001B[43msupported_files\u001B[49m:\n\u001B[32m      3\u001B[39m     \u001B[38;5;28mprint\u001B[39m(\u001B[33m\"\u001B[39m\u001B[33m❌ Nenhum arquivo encontrado!\u001B[39m\u001B[33m\"\u001B[39m)\n\u001B[32m      4\u001B[39m     \u001B[38;5;28mprint\u001B[39m(\u001B[33m\"\u001B[39m\u001B[33m💡 Coloque seus PDFs na pasta data/input/\u001B[39m\u001B[33m\"\u001B[39m)\n",
      "\u001B[31mNameError\u001B[39m: name 'supported_files' is not defined"
     ]
    }
   ],
   "execution_count": 2
  }
 ],
 "metadata": {
  "kernelspec": {
   "display_name": "Python 3",
   "language": "python",
   "name": "python3"
  },
  "language_info": {
   "codemirror_mode": {
    "name": "ipython",
    "version": 2
   },
   "file_extension": ".py",
   "mimetype": "text/x-python",
   "name": "python",
   "nbconvert_exporter": "python",
   "pygments_lexer": "ipython2",
   "version": "2.7.6"
  }
 },
 "nbformat": 4,
 "nbformat_minor": 5
}
