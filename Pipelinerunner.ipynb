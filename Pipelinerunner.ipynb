{
 "cells": [
  {
   "cell_type": "code",
   "id": "initial_id",
   "metadata": {
    "collapsed": true,
    "ExecuteTime": {
     "end_time": "2025-06-13T14:39:29.811800Z",
     "start_time": "2025-06-13T14:39:29.518842Z"
    }
   },
   "source": [
    "import sys\n",
    "import logging\n",
    "from pathlib import Path\n",
    "\n",
    "project_root = Path.cwd()\n",
    "\n",
    "if str(project_root) not in sys.path:\n",
    "    sys.path.insert(0, str(project_root))\n",
    "\n",
    "logging.basicConfig(level=logging.INFO, format='%(asctime)s - %(name)s - %(levelname)s - %(message)s')\n",
    "\n",
    "from config.settings import INPUT_DIR, OUTPUT_DIR, EXTRACTOR_CONFIG\n",
    "from src.managers.file_manager import FileTypeManager\n",
    "from src.extractors.pdf_extractor import PDFTextExtractor\n",
    "from src.extractors.docx_extractor import DocxExtractor\n",
    "\n",
    "\n",
    "\n",
    "\n",
    "AVAILABLE_EXTRACTORS = {\n",
    "    '.pdf': PDFTextExtractor,\n",
    "    '.docx': DocxExtractor,\n",
    "    #'.xlsx': XLSXExtractor\n",
    "}\n",
    "\n",
    "manager = FileTypeManager()\n"
   ],
   "outputs": [],
   "execution_count": 1
  },
  {
   "metadata": {
    "ExecuteTime": {
     "end_time": "2025-06-13T14:39:29.829094Z",
     "start_time": "2025-06-13T14:39:29.822809Z"
    }
   },
   "cell_type": "code",
   "source": [
    "logging.info(f\"Registrando extratores suportados pela configuração: {EXTRACTOR_CONFIG.supported_extensions}\")\n",
    "\n",
    "for extension in EXTRACTOR_CONFIG.supported_extensions:\n",
    "    extractor_class = AVAILABLE_EXTRACTORS.get(extension)\n",
    "    if extractor_class:\n",
    "        manager.register_extractor(extension, extractor_class)\n",
    "    else:\n",
    "        logging.warning(f\"A extensão '{extension}' é suportada na configuração, mas não há uma classe de extrator mapeada para ela em AVAILABLE_EXTRACTORS.\")\n",
    "logging.info(\"=\"*50 + \"\\n\")"
   ],
   "id": "59f57228b4755eb3",
   "outputs": [
    {
     "name": "stderr",
     "output_type": "stream",
     "text": [
      "2025-06-13 11:39:29,824 - root - INFO - Registrando extratores suportados pela configuração: ['.pdf', '.docx', '.xlsx', '.csv']\n",
      "2025-06-13 11:39:29,824 - FileTypeManager - INFO - Registering extractor 'PDFTextExtractor' for extension '.pdf'\n",
      "2025-06-13 11:39:29,825 - FileTypeManager - INFO - Registering extractor 'DocxExtractor' for extension '.docx'\n",
      "2025-06-13 11:39:29,825 - root - WARNING - A extensão '.xlsx' é suportada na configuração, mas não há uma classe de extrator mapeada para ela em AVAILABLE_EXTRACTORS.\n",
      "2025-06-13 11:39:29,825 - root - WARNING - A extensão '.csv' é suportada na configuração, mas não há uma classe de extrator mapeada para ela em AVAILABLE_EXTRACTORS.\n",
      "2025-06-13 11:39:29,826 - root - INFO - ==================================================\n",
      "\n"
     ]
    }
   ],
   "execution_count": 2
  },
  {
   "metadata": {
    "ExecuteTime": {
     "end_time": "2025-06-13T14:39:30.306193Z",
     "start_time": "2025-06-13T14:39:30.216541Z"
    }
   },
   "cell_type": "code",
   "source": [
    "logging.info(f\"Iniciando processamento de arquivos do diretório: {INPUT_DIR}\")\n",
    "if not any(INPUT_DIR.iterdir()):\n",
    "    logging.warning(f\"O diretório de entrada '{INPUT_DIR}' está vazio.\")\n",
    "else:\n",
    "    for file_path in sorted(INPUT_DIR.iterdir()):\n",
    "        if file_path.is_file():\n",
    "            logging.info(f\"--- Processando: {file_path.name} ---\")\n",
    "\n",
    "            # O manager usa os caminhos importados\n",
    "            success = manager.process_file(file_path, OUTPUT_DIR)\n",
    "\n",
    "            if success:\n",
    "                print(f\"✅ Sucesso ao processar {file_path.name}\")\n",
    "            else:\n",
    "                print(f\"❌ Falha ou arquivo pulado: {file_path.name}\")\n",
    "            print(\"-\" * 30 + \"\\n\")\n",
    "\n",
    "logging.info(f\"Processamento concluído. Verifique os resultados em: {OUTPUT_DIR}\")\n"
   ],
   "id": "19c53fbbe0e75296",
   "outputs": [
    {
     "name": "stderr",
     "output_type": "stream",
     "text": [
      "2025-06-13 11:39:30,218 - root - INFO - Iniciando processamento de arquivos do diretório: C:\\Users\\osono\\PycharmProjects\\Pymupdf\\data\\input\n",
      "2025-06-13 11:39:30,219 - root - INFO - --- Processando: Introduction to neural networks.docx ---\n",
      "2025-06-13 11:39:30,220 - FileTypeManager - INFO - Processing 'Introduction to neural networks.docx' with 'DocxExtractor'\n",
      "2025-06-13 11:39:30,243 - DocxExtractor - INFO - 'Introduction to neural networks.docx' has 189 paragraphs (above the limit of 180). Sampling the first 90 and the last 90.\n",
      "2025-06-13 11:39:30,259 - DocxExtractor - INFO - Extraction of 'Introduction to neural networks.docx' completed successfully.\n",
      "2025-06-13 11:39:30,260 - DocxExtractor - INFO - Result from 'Introduction to neural networks.docx' saved at: C:\\Users\\osono\\PycharmProjects\\Pymupdf\\data\\output\\Introduction to neural networks.json\n",
      "2025-06-13 11:39:30,261 - root - INFO - --- Processando: lec21_history_neural_networks_typednotes.pdf ---\n",
      "2025-06-13 11:39:30,261 - FileTypeManager - INFO - Processing 'lec21_history_neural_networks_typednotes.pdf' with 'PDFTextExtractor'\n",
      "2025-06-13 11:39:30,282 - PDFTextExtractor - INFO - 'lec21_history_neural_networks_typednotes.pdf' has 13 pages. Extracting the first 5 and the last 5.\n",
      "2025-06-13 11:39:30,301 - PDFTextExtractor - INFO - Extraction from 'lec21_history_neural_networks_typednotes.pdf' completed successfully.\n",
      "2025-06-13 11:39:30,301 - PDFTextExtractor - INFO - Result from 'lec21_history_neural_networks_typednotes.pdf' saved at: C:\\Users\\osono\\PycharmProjects\\Pymupdf\\data\\output\\lec21_history_neural_networks_typednotes.json\n",
      "2025-06-13 11:39:30,301 - root - INFO - Processamento concluído. Verifique os resultados em: C:\\Users\\osono\\PycharmProjects\\Pymupdf\\data\\output\n"
     ]
    },
    {
     "name": "stdout",
     "output_type": "stream",
     "text": [
      "✅ Sucesso ao processar Introduction to neural networks.docx\n",
      "------------------------------\n",
      "\n",
      "✅ Sucesso ao processar lec21_history_neural_networks_typednotes.pdf\n",
      "------------------------------\n",
      "\n"
     ]
    }
   ],
   "execution_count": 3
  },
  {
   "metadata": {
    "ExecuteTime": {
     "end_time": "2025-06-13T14:39:30.431698Z",
     "start_time": "2025-06-13T14:39:30.415219Z"
    }
   },
   "cell_type": "code",
   "source": [
    "import json\n",
    "\n",
    "json_path = r'C:\\Users\\osono\\PycharmProjects\\Pymupdf\\data\\output\\Introduction to neural networks.json'\n",
    "\n",
    "with open(json_path, 'r', encoding='utf-8') as f:\n",
    "    data = json.load(f)\n",
    "\n",
    "content = data.get('content', '')\n",
    "num_chars = len(content)\n",
    "\n",
    "print(f\"Número de caracteres em 'content': {num_chars}\")"
   ],
   "id": "119100b7c797e7c8",
   "outputs": [
    {
     "name": "stdout",
     "output_type": "stream",
     "text": [
      "Número de caracteres em 'content': 12092\n"
     ]
    }
   ],
   "execution_count": 4
  }
 ],
 "metadata": {
  "kernelspec": {
   "display_name": "Python 3",
   "language": "python",
   "name": "python3"
  },
  "language_info": {
   "codemirror_mode": {
    "name": "ipython",
    "version": 2
   },
   "file_extension": ".py",
   "mimetype": "text/x-python",
   "name": "python",
   "nbconvert_exporter": "python",
   "pygments_lexer": "ipython2",
   "version": "2.7.6"
  }
 },
 "nbformat": 4,
 "nbformat_minor": 5
}
